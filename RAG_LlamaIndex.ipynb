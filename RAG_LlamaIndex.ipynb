{
 "cells": [
  {
   "cell_type": "code",
   "execution_count": 79,
   "metadata": {},
   "outputs": [],
   "source": [
    "import os\n",
    "from google.cloud import storage\n",
    "from google.cloud import aiplatform\n",
    "from llama_index.llms.vertex import Vertex\n",
    "from llama_index.core import VectorStoreIndex, SimpleDirectoryReader, Settings\n",
    "from llama_index.core.ingestion import IngestionPipeline, IngestionCache\n",
    "from llama_index.core.node_parser import SentenceSplitter\n",
    "from llama_index.core.extractors import TitleExtractor\n",
    "from llama_index.embeddings.vertex import VertexTextEmbedding\n",
    "from google.oauth2 import service_account\n",
    "import logging\n",
    "import sys"
   ]
  },
  {
   "cell_type": "code",
   "execution_count": 62,
   "metadata": {},
   "outputs": [],
   "source": [
    "# Google Service Account credentials\n",
    "credentials = service_account.Credentials.from_service_account_file(\n",
    "    \"credential/ai-sandbox-company-73-2659f4150720.json\"\n",
    ")\n",
    "\n",
    "# Ensure OpenAI is not being referenced\n",
    "os.environ[\"OPENAI_API_KEY\"] = \"\"\n",
    "\n",
    "\n",
    "embedding = VertexTextEmbedding(\n",
    "    model_name=\"textembedding-gecko@003\",\n",
    "    project=\"ai-sandbox-company-73\",\n",
    "    location=\"asia-southeast1\",\n",
    "    credentials=credentials\n",
    ")\n",
    "\n",
    "Settings.embed_model = embedding"
   ]
  },
  {
   "cell_type": "markdown",
   "metadata": {},
   "source": [
    "Getting Data"
   ]
  },
  {
   "cell_type": "code",
   "execution_count": 35,
   "metadata": {},
   "outputs": [
    {
     "name": "stdout",
     "output_type": "stream",
     "text": [
      "Directory ./content/ already exists.\n",
      "Downloaded: trial/CP 83-1-2004 (2015) CoP for construction CAD - Organisation n naming of CAD layers.pdf to ./content/CP 83-1-2004 (2015) CoP for construction CAD - Organisation n naming of CAD layers.pdf\n",
      "Downloaded: trial/GFA Handbook_August 2019.pdf to ./content/GFA Handbook_August 2019.pdf\n",
      "Downloaded: trial/LTA_CIVIL DESIGN CRITERIA.pdf to ./content/LTA_CIVIL DESIGN CRITERIA.pdf\n",
      "Downloaded: trial/accessibilitycode2019.pdf to ./content/accessibilitycode2019.pdf\n"
     ]
    }
   ],
   "source": [
    "def ensure_directory_exists(directory):\n",
    "    if not os.path.exists(directory):\n",
    "        os.makedirs(directory)\n",
    "        print(f\"Directory {directory} created.\")\n",
    "    else:\n",
    "        print(f\"Directory {directory} already exists.\")\n",
    "\n",
    "def download_files(bucket_name, source_prefix, destination_folder):\n",
    "    # Create a client\n",
    "    client = storage.Client()\n",
    "\n",
    "    # Get the bucket\n",
    "    bucket = client.bucket(bucket_name)\n",
    "\n",
    "    # List all blobs in the bucket with the given prefix\n",
    "    blobs = bucket.list_blobs(prefix=source_prefix)\n",
    "\n",
    "    # Ensure the destination directory exists\n",
    "    ensure_directory_exists(destination_folder)\n",
    "\n",
    "    # Download each matching blob\n",
    "    for blob in blobs:\n",
    "        if blob.name.endswith('.pdf'):\n",
    "            destination_path = os.path.join(destination_folder, os.path.basename(blob.name))\n",
    "            blob.download_to_filename(destination_path)\n",
    "            print(f\"Downloaded: {blob.name} to {destination_path}\")\n",
    "\n",
    "bucket_name = \"jacobs_codes-standards\"\n",
    "source_blob_name = \"trial/\"\n",
    "destination_file_name = \"./content/\"\n",
    "download_files(bucket_name, source_blob_name, destination_file_name)"
   ]
  },
  {
   "cell_type": "markdown",
   "metadata": {},
   "source": [
    "Loading Data"
   ]
  },
  {
   "cell_type": "code",
   "execution_count": 44,
   "metadata": {},
   "outputs": [],
   "source": [
    "documents = SimpleDirectoryReader(\"./content/\").load_data()"
   ]
  },
  {
   "cell_type": "code",
   "execution_count": 63,
   "metadata": {},
   "outputs": [],
   "source": [
    "# Create the index with Vertex AI LLM explicitly\n",
    "index = VectorStoreIndex.from_documents(documents)\n"
   ]
  },
  {
   "cell_type": "code",
   "execution_count": 80,
   "metadata": {},
   "outputs": [],
   "source": [
    "\n",
    "\n",
    "logging.basicConfig(stream=sys.stdout, level=logging.DEBUG)\n",
    "logging.getLogger().addHandler(logging.StreamHandler(stream=sys.stdout))\n",
    "\n",
    "query_engine = index.as_query_engine()"
   ]
  },
  {
   "cell_type": "code",
   "execution_count": 81,
   "metadata": {},
   "outputs": [
    {
     "name": "stdout",
     "output_type": "stream",
     "text": [
      "DEBUG:llama_index.core.indices.utils:> Top 2 nodes:\n",
      "> [Node baed03d8-d67a-4c86-8ef5-1ab97cd3451b] [Similarity score:             0.772752] CODE  ON ACCESSIBILITY 2019  \n",
      " \n",
      "64 C h a p t e r  4 \n",
      " 4.6.5.2  Landings:  \n",
      " \n",
      "(a) must  have a lev...\n",
      "> [Node 2b0d1b41-9881-4dd6-a6f9-fb30ed70da80] [Similarity score:             0.754826] CODE  ON ACCESSIBILITY 2019  \n",
      " \n",
      "62 C h a p t e r  4 \n",
      " 4.6.1.2  Where the horizontal run of an app...\n",
      "> Top 2 nodes:\n",
      "> [Node baed03d8-d67a-4c86-8ef5-1ab97cd3451b] [Similarity score:             0.772752] CODE  ON ACCESSIBILITY 2019  \n",
      " \n",
      "64 C h a p t e r  4 \n",
      " 4.6.5.2  Landings:  \n",
      " \n",
      "(a) must  have a lev...\n",
      "> [Node 2b0d1b41-9881-4dd6-a6f9-fb30ed70da80] [Similarity score:             0.754826] CODE  ON ACCESSIBILITY 2019  \n",
      " \n",
      "62 C h a p t e r  4 \n",
      " 4.6.1.2  Where the horizontal run of an app...\n",
      "Landings are required at intervals not exceeding the maximum length specified for various gradients.  A 1:12 gradient requires landings every 6 meters, a 1:14 gradient every 9 meters, a 1:15 gradient every 11 meters, a 1:20 gradient every 15 meters, and gradients not gentler than 1:25 every 18 meters.  Landings are not required for ramps with a gradient of 1:25 or gentler.  The number of horizontal runs, and therefore intermediate landings, should be limited to four, resulting in a maximum of three intermediate landings.  For gradients between those specified, the interval can be determined through linear interpolation.\n",
      "\n"
     ]
    }
   ],
   "source": [
    "response = query_engine.query(\"Intermediate landing requirement for ramps\")\n",
    "print(response) "
   ]
  },
  {
   "cell_type": "code",
   "execution_count": 82,
   "metadata": {},
   "outputs": [
    {
     "name": "stdout",
     "output_type": "stream",
     "text": [
      "DEBUG:fsspec.local:open file: /Users/dylim/Documents/projects/AITrailblazers/storage/docstore.json\n",
      "open file: /Users/dylim/Documents/projects/AITrailblazers/storage/docstore.json\n",
      "DEBUG:fsspec.local:open file: /Users/dylim/Documents/projects/AITrailblazers/storage/index_store.json\n",
      "open file: /Users/dylim/Documents/projects/AITrailblazers/storage/index_store.json\n",
      "DEBUG:fsspec.local:open file: /Users/dylim/Documents/projects/AITrailblazers/storage/graph_store.json\n",
      "open file: /Users/dylim/Documents/projects/AITrailblazers/storage/graph_store.json\n",
      "DEBUG:fsspec.local:open file: /Users/dylim/Documents/projects/AITrailblazers/storage/default__vector_store.json\n",
      "open file: /Users/dylim/Documents/projects/AITrailblazers/storage/default__vector_store.json\n",
      "DEBUG:fsspec.local:open file: /Users/dylim/Documents/projects/AITrailblazers/storage/image__vector_store.json\n",
      "open file: /Users/dylim/Documents/projects/AITrailblazers/storage/image__vector_store.json\n"
     ]
    }
   ],
   "source": [
    "index.storage_context.persist()"
   ]
  }
 ],
 "metadata": {
  "kernelspec": {
   "display_name": "py3_11_0",
   "language": "python",
   "name": "python3"
  },
  "language_info": {
   "codemirror_mode": {
    "name": "ipython",
    "version": 3
   },
   "file_extension": ".py",
   "mimetype": "text/x-python",
   "name": "python",
   "nbconvert_exporter": "python",
   "pygments_lexer": "ipython3",
   "version": "3.11.0"
  }
 },
 "nbformat": 4,
 "nbformat_minor": 2
}
